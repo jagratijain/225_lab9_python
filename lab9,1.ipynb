{
 "cells": [
  {
   "cell_type": "code",
   "execution_count": 1,
   "metadata": {},
   "outputs": [
    {
     "name": "stdout",
     "output_type": "stream",
     "text": [
      "Array Indexing:\n",
      "Element at index 2: 2\n",
      "Elements from index 1 to 4: [1 2 3]\n",
      "\n",
      "Fancy Indexing:\n",
      "Elements at fancy indices [1 3 5]: [1 3 5]\n",
      "Elements where bool_array is True: [0 2 4]\n"
     ]
    }
   ],
   "source": [
    "#1 Write a program to distinguish between Array Indexing and Fancy Indexing.\n",
    "import numpy as np\n",
    "\n",
    "# Create a NumPy array\n",
    "arr = np.array([0, 1, 2, 3, 4, 5])\n",
    "\n",
    "# Array Indexing\n",
    "print(\"Array Indexing:\")\n",
    "index = 2\n",
    "print(f\"Element at index {index}: {arr[index]}\")\n",
    "\n",
    "slice_start = 1\n",
    "slice_end = 4\n",
    "print(f\"Elements from index {slice_start} to {slice_end}: {arr[slice_start:slice_end]}\")\n",
    "\n",
    "# Fancy Indexing\n",
    "print(\"\\nFancy Indexing:\")\n",
    "index_array = np.array([1, 3, 5])\n",
    "print(f\"Elements at fancy indices {index_array}: {arr[index_array]}\")\n",
    "\n"
   ]
  },
  {
   "cell_type": "code",
   "execution_count": 2,
   "metadata": {},
   "outputs": [
    {
     "name": "stdout",
     "output_type": "stream",
     "text": [
      "Original Matrix:\n",
      "[[1 2 3]\n",
      " [4 5 6]\n",
      " [7 8 9]]\n",
      "\n",
      "Sliced Rows:\n",
      "[[1 2 3]\n",
      " [4 5 6]]\n",
      "\n",
      "Sliced Columns:\n",
      "[[2 3]\n",
      " [5 6]\n",
      " [8 9]]\n",
      "\n",
      "Element at row 1, column 2: 6\n"
     ]
    }
   ],
   "source": [
    "#2Execute the 2D array Slicing.\n",
    "import numpy as np\n",
    "\n",
    "# Create a 2D NumPy array\n",
    "matrix = np.array([[1, 2, 3],\n",
    "                   [4, 5, 6],\n",
    "                   [7, 8, 9]])\n",
    "\n",
    "# Basic 2D Slicing\n",
    "print(\"Original Matrix:\")\n",
    "print(matrix)\n",
    "\n",
    "# Slicing rows and columns\n",
    "row_slice = matrix[0:2, :]  # Rows 0 and 1, all columns\n",
    "col_slice = matrix[:, 1:3]  # All rows, columns 1 and 2\n",
    "\n",
    "print(\"\\nSliced Rows:\")\n",
    "print(row_slice)\n",
    "\n",
    "print(\"\\nSliced Columns:\")\n",
    "print(col_slice)\n",
    "\n",
    "# Accessing specific elements\n",
    "element = matrix[1, 2]  # Row 1, Column 2\n",
    "print(\"\\nElement at row 1, column 2:\", element)\n",
    "\n",
    "\n"
   ]
  },
  {
   "cell_type": "code",
   "execution_count": 19,
   "metadata": {},
   "outputs": [
    {
     "name": "stdout",
     "output_type": "stream",
     "text": [
      "[[[[[1 2 3 4]]]]]\n"
     ]
    }
   ],
   "source": [
    "#3Create the 5-Dimensional arrays using ‘ndmin’.\n",
    "import numpy as np\n",
    "\n",
    "arr=np.array([1,2,3,4], ndmin=5)\n",
    "print(arr)"
   ]
  },
  {
   "cell_type": "code",
   "execution_count": 21,
   "metadata": {},
   "outputs": [
    {
     "name": "stdout",
     "output_type": "stream",
     "text": [
      "Original 1-D Array:\n",
      "[1 2 3 4 5 6]\n",
      "\n",
      "Reshaped 2-D Array:\n",
      "[[1 2]\n",
      " [3 4]\n",
      " [5 6]]\n"
     ]
    }
   ],
   "source": [
    "#4 Reshape the array from 1-D to 2-D array..\n",
    "import numpy as np\n",
    "\n",
    "# Create a 1-D array\n",
    "one_dimensional_array = np.array([1, 2, 3, 4, 5, 6])\n",
    "\n",
    "# Reshape the 1-D array to a 2-D array with 3 rows and 2 columns\n",
    "two_dimensional_array = one_dimensional_array.reshape(3, 2)\n",
    "\n",
    "# Alternatively, you can use np.reshape()\n",
    "# two_dimensional_array = np.reshape(one_dimensional_array, (3, 2))\n",
    "\n",
    "# Print the original and reshaped arrays\n",
    "print(\"Original 1-D Array:\")\n",
    "print(one_dimensional_array)\n",
    "\n",
    "print(\"\\nReshaped 2-D Array:\")\n",
    "print(two_dimensional_array)\n"
   ]
  },
  {
   "cell_type": "code",
   "execution_count": 5,
   "metadata": {},
   "outputs": [
    {
     "name": "stdout",
     "output_type": "stream",
     "text": [
      "np.stack() result:\n",
      "[[1 2 3]\n",
      " [4 5 6]]\n"
     ]
    }
   ],
   "source": [
    "#5 Q5. Perform the Stack functions in Numpy arrays – Stack(), hstack(), vstack(), and dstack().\n",
    "import numpy as np\n",
    "\n",
    "# Create two 1-D arrays\n",
    "array1 = np.array([1, 2, 3])\n",
    "array2 = np.array([4, 5, 6])\n",
    "\n",
    "# Stack them along a new axis (axis=0 by default)\n",
    "stacked_array = np.stack((array1, array2))\n",
    "\n",
    "print(\"np.stack() result:\")\n",
    "print(stacked_array)\n"
   ]
  },
  {
   "cell_type": "code",
   "execution_count": 6,
   "metadata": {},
   "outputs": [
    {
     "name": "stdout",
     "output_type": "stream",
     "text": [
      "np.hstack() result:\n",
      "[1 2 3 4 5 6]\n"
     ]
    }
   ],
   "source": [
    "#hstack\n",
    "import numpy as np\n",
    "\n",
    "# Create two 1-D arrays\n",
    "array1 = np.array([1, 2, 3])\n",
    "array2 = np.array([4, 5, 6])\n",
    "\n",
    "# Stack them horizontally\n",
    "horizontal_stack = np.hstack((array1, array2))\n",
    "\n",
    "print(\"np.hstack() result:\")\n",
    "print(horizontal_stack)\n"
   ]
  },
  {
   "cell_type": "code",
   "execution_count": 7,
   "metadata": {},
   "outputs": [
    {
     "name": "stdout",
     "output_type": "stream",
     "text": [
      "np.vstack() result:\n",
      "[[1 2 3]\n",
      " [4 5 6]]\n"
     ]
    }
   ],
   "source": [
    "#vstack\n",
    "import numpy as np\n",
    "\n",
    "# Create two 1-D arrays\n",
    "array1 = np.array([1, 2, 3])\n",
    "array2 = np.array([4, 5, 6])\n",
    "\n",
    "# Stack them vertically\n",
    "vertical_stack = np.vstack((array1, array2))\n",
    "\n",
    "print(\"np.vstack() result:\")\n",
    "print(vertical_stack)\n"
   ]
  },
  {
   "cell_type": "code",
   "execution_count": 8,
   "metadata": {},
   "outputs": [
    {
     "name": "stdout",
     "output_type": "stream",
     "text": [
      "np.dstack() result:\n",
      "[[[1 5]\n",
      "  [2 6]]\n",
      "\n",
      " [[3 7]\n",
      "  [4 8]]]\n"
     ]
    }
   ],
   "source": [
    "#dstack\n",
    "import numpy as np\n",
    "\n",
    "# Create two 2-D arrays\n",
    "array1 = np.array([[1, 2], [3, 4]])\n",
    "array2 = np.array([[5, 6], [7, 8]])\n",
    "\n",
    "# Stack them along the third axis\n",
    "depth_stack = np.dstack((array1, array2))\n",
    "\n",
    "print(\"np.dstack() result:\")\n",
    "print(depth_stack)\n"
   ]
  },
  {
   "cell_type": "code",
   "execution_count": 9,
   "metadata": {},
   "outputs": [
    {
     "name": "stdout",
     "output_type": "stream",
     "text": [
      "Value 4 should be inserted at index 2 to maintain sorted order.\n",
      "Value 8 should be inserted at index 4 to maintain sorted order.\n",
      "Value 13 should be inserted at index 6 to maintain sorted order.\n"
     ]
    }
   ],
   "source": [
    "#6 Q6. Perform the searchsort method in Numpy array.\n",
    "import numpy as np\n",
    "\n",
    "# Create a sorted 1-D array\n",
    "sorted_array = np.array([1, 3, 5, 7, 9, 11, 13])\n",
    "\n",
    "# Values to search for\n",
    "values_to_search = [4, 8, 13]\n",
    "\n",
    "# Perform searchsorted\n",
    "indices = np.searchsorted(sorted_array, values_to_search)\n",
    "\n",
    "# Print the results\n",
    "for value, index in zip(values_to_search, indices):\n",
    "    print(f\"Value {value} should be inserted at index {index} to maintain sorted order.\")\n"
   ]
  },
  {
   "cell_type": "code",
   "execution_count": 10,
   "metadata": {},
   "outputs": [
    {
     "name": "stdout",
     "output_type": "stream",
     "text": [
      "[('Book 1', 'Author 1', 2020, '978-123456789')\n",
      " ('Book 2', 'Author 2', 2015, '978-987654321')\n",
      " ('Book 3', 'Author 3', 2012, '978-012345678')]\n"
     ]
    }
   ],
   "source": [
    "#7. Create Numpy Structured array using your domain features.\n",
    "import numpy as np\n",
    "\n",
    "# Define the data types for the structured array\n",
    "book_dtype = np.dtype([\n",
    "    ('title', 'U50'),        # Unicode string with max length 50 characters\n",
    "    ('author', 'U50'),\n",
    "    ('publication_year', int),  # Integer for publication year\n",
    "    ('isbn', 'U13')           # Unicode string with max length 13 characters (ISBN-13)\n",
    "])\n",
    "\n",
    "# Create a structured array with book information\n",
    "books = np.array([\n",
    "    ('Book 1', 'Author 1', 2020, '978-1234567890'),\n",
    "    ('Book 2', 'Author 2', 2015, '978-9876543210'),\n",
    "    ('Book 3', 'Author 3', 2012, '978-0123456789'),\n",
    "], dtype=book_dtype)\n",
    "\n",
    "# Print the structured array\n",
    "print(books)\n"
   ]
  },
  {
   "cell_type": "code",
   "execution_count": 11,
   "metadata": {},
   "outputs": [
    {
     "name": "stdout",
     "output_type": "stream",
     "text": [
      "      Name  Age         City\n",
      "0    Alice   28     New York\n",
      "1      Bob   24  Los Angeles\n",
      "2  Charlie   22      Chicago\n"
     ]
    }
   ],
   "source": [
    "#8. Create Data frame using List and Dictionary.\n",
    "import pandas as pd\n",
    "\n",
    "# Create a dictionary of lists\n",
    "data = {\n",
    "    'Name': ['Alice', 'Bob', 'Charlie'],\n",
    "    'Age': [28, 24, 22],\n",
    "    'City': ['New York', 'Los Angeles', 'Chicago']\n",
    "}\n",
    "\n",
    "# Create a DataFrame from the dictionary\n",
    "df = pd.DataFrame(data)\n",
    "\n",
    "# Display the DataFrame\n",
    "print(df)\n"
   ]
  },
  {
   "cell_type": "code",
   "execution_count": 12,
   "metadata": {},
   "outputs": [
    {
     "name": "stdout",
     "output_type": "stream",
     "text": [
      "Original DataFrame:\n",
      "      Name   Age  Gender  Score\n",
      "0    Alice  20.0  Female   90.0\n",
      "1      Bob  21.0    Male    NaN\n",
      "2  Charlie   NaN    Male   75.0\n",
      "3    David  22.0    Male    NaN\n",
      "4      Eva  23.0  Female   88.0\n",
      "\n",
      "Missing Data (True where data is missing):\n",
      "     Name    Age  Gender  Score\n",
      "0  False  False   False  False\n",
      "1  False  False   False   True\n",
      "2  False   True   False  False\n",
      "3  False  False   False   True\n",
      "4  False  False   False  False\n",
      "\n",
      "Non-Missing Data (True where data is not missing):\n",
      "    Name    Age  Gender  Score\n",
      "0  True   True    True   True\n",
      "1  True   True    True  False\n",
      "2  True  False    True   True\n",
      "3  True   True    True  False\n",
      "4  True   True    True   True\n",
      "\n",
      "DataFrame after dropping rows with missing data:\n",
      "    Name   Age  Gender  Score\n",
      "0  Alice  20.0  Female   90.0\n",
      "4    Eva  23.0  Female   88.0\n",
      "\n",
      "DataFrame after filling missing data:\n",
      "      Name   Age  Gender  Score\n",
      "0    Alice  20.0  Female   90.0\n",
      "1      Bob  21.0    Male   88.0\n",
      "2  Charlie  21.5    Male   75.0\n",
      "3    David  22.0    Male   88.0\n",
      "4      Eva  23.0  Female   88.0\n",
      "\n",
      "DataFrame after interpolating missing data:\n",
      "      Name   Age  Gender  Score\n",
      "0    Alice  20.0  Female   90.0\n",
      "1      Bob  21.0    Male   82.5\n",
      "2  Charlie  21.5    Male   75.0\n",
      "3    David  22.0    Male   81.5\n",
      "4      Eva  23.0  Female   88.0\n"
     ]
    },
    {
     "name": "stderr",
     "output_type": "stream",
     "text": [
      "C:\\Users\\jagrati jain\\AppData\\Local\\Temp\\ipykernel_7756\\182688374.py:38: FutureWarning: DataFrame.interpolate with object dtype is deprecated and will raise in a future version. Call obj.infer_objects(copy=False) before interpolating instead.\n",
      "  df_interpolated = df.interpolate()\n"
     ]
    }
   ],
   "source": [
    "#9 Q9. Create Data frame on your Domain area and perform the following operations to find and eliminate the\n",
    "#missing data from the dataset.\n",
    "#• isnull()\n",
    "#• notnull()\n",
    "#• dropna()\n",
    "#• fillna()\n",
    "#• replace()\n",
    "#• interpolate()\n",
    "\n",
    "import pandas as pd\n",
    "import numpy as np\n",
    "\n",
    "# Create a DataFrame with synthetic student data\n",
    "data = {\n",
    "    'Name': ['Alice', 'Bob', 'Charlie', 'David', 'Eva'],\n",
    "    'Age': [20, 21, np.nan, 22, 23],\n",
    "    'Gender': ['Female', 'Male', 'Male', 'Male', 'Female'],\n",
    "    'Score': [90, np.nan, 75, np.nan, 88]\n",
    "}\n",
    "\n",
    "df = pd.DataFrame(data)\n",
    "\n",
    "# Display the original DataFrame\n",
    "print(\"Original DataFrame:\")\n",
    "print(df)\n",
    "\n",
    "# Find missing data with isnull()\n",
    "missing_data = df.isnull()\n",
    "print(\"\\nMissing Data (True where data is missing):\\n\", missing_data)\n",
    "\n",
    "# Find non-missing data with notnull()\n",
    "non_missing_data = df.notnull()\n",
    "print(\"\\nNon-Missing Data (True where data is not missing):\\n\", non_missing_data)\n",
    "\n",
    "# Drop rows with missing data using dropna()\n",
    "df_dropped = df.dropna()\n",
    "print(\"\\nDataFrame after dropping rows with missing data:\")\n",
    "print(df_dropped)\n",
    "\n",
    "# Fill missing data with fillna()\n",
    "df_filled = df.fillna({'Age': df['Age'].mean(), 'Score': df['Score'].median()})\n",
    "print(\"\\nDataFrame after filling missing data:\")\n",
    "print(df_filled)\n",
    "\n",
    "# Replace missing data with interpolate()\n",
    "df_interpolated = df.interpolate()\n",
    "print(\"\\nDataFrame after interpolating missing data:\")\n",
    "print(df_interpolated)\n"
   ]
  },
  {
   "cell_type": "code",
   "execution_count": 13,
   "metadata": {},
   "outputs": [
    {
     "name": "stdout",
     "output_type": "stream",
     "text": [
      "DataFrame with Hierarchical Indexing:\n",
      "                      Name   Age  Gender  Score\n",
      "Class   Student                                \n",
      "Class A Student 1    Alice  20.0  Female   90.0\n",
      "        Student 2      Bob  21.0    Male    NaN\n",
      "Class B Student 1  Charlie   NaN    Male   75.0\n",
      "        Student 2    David  22.0    Male    NaN\n",
      "Class C Student 1      Eva  23.0  Female   88.0\n"
     ]
    }
   ],
   "source": [
    "#10. Perform the Hierarchical Indexing in the above created dataset.\n",
    "import pandas as pd\n",
    "import numpy as np\n",
    "\n",
    "# Create a DataFrame with synthetic student data\n",
    "data = {\n",
    "    'Name': ['Alice', 'Bob', 'Charlie', 'David', 'Eva'],\n",
    "    'Age': [20, 21, np.nan, 22, 23],\n",
    "    'Gender': ['Female', 'Male', 'Male', 'Male', 'Female'],\n",
    "    'Score': [90, np.nan, 75, np.nan, 88]\n",
    "}\n",
    "\n",
    "# Create a MultiIndex DataFrame with two levels of indexing\n",
    "arrays = [\n",
    "    ['Class A', 'Class A', 'Class B', 'Class B', 'Class C'],\n",
    "    ['Student 1', 'Student 2', 'Student 1', 'Student 2', 'Student 1']\n",
    "]\n",
    "\n",
    "index = pd.MultiIndex.from_arrays(arrays, names=('Class', 'Student'))\n",
    "\n",
    "df = pd.DataFrame(data, index=index)\n",
    "\n",
    "# Display the DataFrame with hierarchical indexing\n",
    "print(\"DataFrame with Hierarchical Indexing:\")\n",
    "print(df)\n"
   ]
  }
 ],
 "metadata": {
  "kernelspec": {
   "display_name": "Python 3",
   "language": "python",
   "name": "python3"
  },
  "language_info": {
   "codemirror_mode": {
    "name": "ipython",
    "version": 3
   },
   "file_extension": ".py",
   "mimetype": "text/x-python",
   "name": "python",
   "nbconvert_exporter": "python",
   "pygments_lexer": "ipython3",
   "version": "3.11.4"
  },
  "orig_nbformat": 4
 },
 "nbformat": 4,
 "nbformat_minor": 2
}
